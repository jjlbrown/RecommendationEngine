{
 "cells": [
  {
   "cell_type": "markdown",
   "metadata": {},
   "source": [
    "# Recommendation engine (part 2)\n",
    "This notebook is inspired by the following articles:\n",
    "- __DEEP BEERS: Playing with Deep Recommendation Engines Using Keras__  \n",
    "https://medium.com/data-from-the-trenches/deep-beers-playing-with-deep-recommendation-engines-using-keras-part-1-1efc4779568f\n",
    "- __Recommender Systems in Keras__\n",
    "https://nipunbatra.github.io/blog/2017/recommend-keras.html\n",
    "- __Neural Networks for Collaborative Filtering__\n",
    "https://nipunbatra.github.io/blog/2017/neural-collaborative-filtering.html\n",
    "\n",
    "In this notebook, we will discover how to implement a recommendation engine with `Keras`."
   ]
  },
  {
   "cell_type": "markdown",
   "metadata": {},
   "source": [
    "## Introduction\n"
   ]
  },
  {
   "cell_type": "markdown",
   "metadata": {},
   "source": [
    "# Implementation "
   ]
  },
  {
   "cell_type": "markdown",
   "metadata": {},
   "source": [
    "We will download the MovieLens dataset (http://grouplens.org/datasets/movielens/100k/). We focus only on a subpart of the whole MovieLensdataset (100,000 ratings from 1000 users on 1700 movies).\n",
    "\n",
    "Documentation about the dataset can be found here: http://files.grouplens.org/datasets/movielens/ml-100k-README.txt"
   ]
  },
  {
   "cell_type": "markdown",
   "metadata": {},
   "source": [
    "## Loading the data"
   ]
  },
  {
   "cell_type": "code",
   "execution_count": 1,
   "metadata": {},
   "outputs": [],
   "source": [
    "import pandas as pd\n",
    "import matplotlib.pyplot as plt\n",
    "import numpy as np\n",
    "\n",
    "pd.options.display.max_columns = 50"
   ]
  },
  {
   "cell_type": "code",
   "execution_count": 2,
   "metadata": {},
   "outputs": [],
   "source": [
    "#Reading users file:\n",
    "u_cols = ['user_id', 'age', 'sex', 'occupation', 'zip_code']\n",
    "users = pd.read_csv('ml-100k/u.user', sep='|', names=u_cols, encoding='latin-1')\n",
    "\n",
    "#Reading ratings file:\n",
    "r_cols = ['user_id', 'movie_id', 'rating', 'unix_timestamp']\n",
    "ratings = pd.read_csv('ml-100k/u.data', sep='\\t', names=r_cols, encoding='latin-1')\n",
    "\n",
    "#Reading items file:\n",
    "i_cols = ['movie id', 'movie title' ,'release date','video release date', 'IMDb URL', 'unknown', 'Action', 'Adventure',\n",
    "'Animation', 'Children\\'s', 'Comedy', 'Crime', 'Documentary', 'Drama', 'Fantasy',\n",
    "'Film-Noir', 'Horror', 'Musical', 'Mystery', 'Romance', 'Sci-Fi', 'Thriller', 'War', 'Western']\n",
    "items = pd.read_csv('ml-100k/u.item', sep='|', names=i_cols, encoding='latin-1')\n"
   ]
  },
  {
   "cell_type": "code",
   "execution_count": 3,
   "metadata": {},
   "outputs": [
    {
     "name": "stdout",
     "output_type": "stream",
     "text": [
      "(943, 5)\n"
     ]
    },
    {
     "data": {
      "text/html": [
       "<div>\n",
       "<table border=\"1\" class=\"dataframe\">\n",
       "  <thead>\n",
       "    <tr style=\"text-align: right;\">\n",
       "      <th></th>\n",
       "      <th>user_id</th>\n",
       "      <th>age</th>\n",
       "      <th>sex</th>\n",
       "      <th>occupation</th>\n",
       "      <th>zip_code</th>\n",
       "    </tr>\n",
       "  </thead>\n",
       "  <tbody>\n",
       "    <tr>\n",
       "      <th>0</th>\n",
       "      <td>1</td>\n",
       "      <td>24</td>\n",
       "      <td>M</td>\n",
       "      <td>technician</td>\n",
       "      <td>85711</td>\n",
       "    </tr>\n",
       "    <tr>\n",
       "      <th>1</th>\n",
       "      <td>2</td>\n",
       "      <td>53</td>\n",
       "      <td>F</td>\n",
       "      <td>other</td>\n",
       "      <td>94043</td>\n",
       "    </tr>\n",
       "    <tr>\n",
       "      <th>2</th>\n",
       "      <td>3</td>\n",
       "      <td>23</td>\n",
       "      <td>M</td>\n",
       "      <td>writer</td>\n",
       "      <td>32067</td>\n",
       "    </tr>\n",
       "    <tr>\n",
       "      <th>3</th>\n",
       "      <td>4</td>\n",
       "      <td>24</td>\n",
       "      <td>M</td>\n",
       "      <td>technician</td>\n",
       "      <td>43537</td>\n",
       "    </tr>\n",
       "    <tr>\n",
       "      <th>4</th>\n",
       "      <td>5</td>\n",
       "      <td>33</td>\n",
       "      <td>F</td>\n",
       "      <td>other</td>\n",
       "      <td>15213</td>\n",
       "    </tr>\n",
       "  </tbody>\n",
       "</table>\n",
       "</div>"
      ],
      "text/plain": [
       "   user_id  age sex  occupation zip_code\n",
       "0        1   24   M  technician    85711\n",
       "1        2   53   F       other    94043\n",
       "2        3   23   M      writer    32067\n",
       "3        4   24   M  technician    43537\n",
       "4        5   33   F       other    15213"
      ]
     },
     "execution_count": 3,
     "metadata": {},
     "output_type": "execute_result"
    }
   ],
   "source": [
    "print(users.shape)\n",
    "users.head()"
   ]
  },
  {
   "cell_type": "code",
   "execution_count": 4,
   "metadata": {},
   "outputs": [
    {
     "name": "stdout",
     "output_type": "stream",
     "text": [
      "(100000, 4)\n"
     ]
    },
    {
     "data": {
      "text/html": [
       "<div>\n",
       "<table border=\"1\" class=\"dataframe\">\n",
       "  <thead>\n",
       "    <tr style=\"text-align: right;\">\n",
       "      <th></th>\n",
       "      <th>user_id</th>\n",
       "      <th>movie_id</th>\n",
       "      <th>rating</th>\n",
       "      <th>unix_timestamp</th>\n",
       "    </tr>\n",
       "  </thead>\n",
       "  <tbody>\n",
       "    <tr>\n",
       "      <th>0</th>\n",
       "      <td>196</td>\n",
       "      <td>242</td>\n",
       "      <td>3</td>\n",
       "      <td>881250949</td>\n",
       "    </tr>\n",
       "    <tr>\n",
       "      <th>1</th>\n",
       "      <td>186</td>\n",
       "      <td>302</td>\n",
       "      <td>3</td>\n",
       "      <td>891717742</td>\n",
       "    </tr>\n",
       "    <tr>\n",
       "      <th>2</th>\n",
       "      <td>22</td>\n",
       "      <td>377</td>\n",
       "      <td>1</td>\n",
       "      <td>878887116</td>\n",
       "    </tr>\n",
       "    <tr>\n",
       "      <th>3</th>\n",
       "      <td>244</td>\n",
       "      <td>51</td>\n",
       "      <td>2</td>\n",
       "      <td>880606923</td>\n",
       "    </tr>\n",
       "    <tr>\n",
       "      <th>4</th>\n",
       "      <td>166</td>\n",
       "      <td>346</td>\n",
       "      <td>1</td>\n",
       "      <td>886397596</td>\n",
       "    </tr>\n",
       "  </tbody>\n",
       "</table>\n",
       "</div>"
      ],
      "text/plain": [
       "   user_id  movie_id  rating  unix_timestamp\n",
       "0      196       242       3       881250949\n",
       "1      186       302       3       891717742\n",
       "2       22       377       1       878887116\n",
       "3      244        51       2       880606923\n",
       "4      166       346       1       886397596"
      ]
     },
     "execution_count": 4,
     "metadata": {},
     "output_type": "execute_result"
    }
   ],
   "source": [
    "print(ratings.shape)\n",
    "ratings.head()"
   ]
  },
  {
   "cell_type": "code",
   "execution_count": 5,
   "metadata": {},
   "outputs": [
    {
     "name": "stdout",
     "output_type": "stream",
     "text": [
      "(1682, 24)\n"
     ]
    },
    {
     "data": {
      "text/html": [
       "<div>\n",
       "<table border=\"1\" class=\"dataframe\">\n",
       "  <thead>\n",
       "    <tr style=\"text-align: right;\">\n",
       "      <th></th>\n",
       "      <th>movie id</th>\n",
       "      <th>movie title</th>\n",
       "      <th>release date</th>\n",
       "      <th>video release date</th>\n",
       "      <th>IMDb URL</th>\n",
       "      <th>unknown</th>\n",
       "      <th>Action</th>\n",
       "      <th>Adventure</th>\n",
       "      <th>Animation</th>\n",
       "      <th>Children's</th>\n",
       "      <th>Comedy</th>\n",
       "      <th>Crime</th>\n",
       "      <th>Documentary</th>\n",
       "      <th>Drama</th>\n",
       "      <th>Fantasy</th>\n",
       "      <th>Film-Noir</th>\n",
       "      <th>Horror</th>\n",
       "      <th>Musical</th>\n",
       "      <th>Mystery</th>\n",
       "      <th>Romance</th>\n",
       "      <th>Sci-Fi</th>\n",
       "      <th>Thriller</th>\n",
       "      <th>War</th>\n",
       "      <th>Western</th>\n",
       "    </tr>\n",
       "  </thead>\n",
       "  <tbody>\n",
       "    <tr>\n",
       "      <th>0</th>\n",
       "      <td>1</td>\n",
       "      <td>Toy Story (1995)</td>\n",
       "      <td>01-Jan-1995</td>\n",
       "      <td>NaN</td>\n",
       "      <td>http://us.imdb.com/M/title-exact?Toy%20Story%2...</td>\n",
       "      <td>0</td>\n",
       "      <td>0</td>\n",
       "      <td>0</td>\n",
       "      <td>1</td>\n",
       "      <td>1</td>\n",
       "      <td>1</td>\n",
       "      <td>0</td>\n",
       "      <td>0</td>\n",
       "      <td>0</td>\n",
       "      <td>0</td>\n",
       "      <td>0</td>\n",
       "      <td>0</td>\n",
       "      <td>0</td>\n",
       "      <td>0</td>\n",
       "      <td>0</td>\n",
       "      <td>0</td>\n",
       "      <td>0</td>\n",
       "      <td>0</td>\n",
       "      <td>0</td>\n",
       "    </tr>\n",
       "    <tr>\n",
       "      <th>1</th>\n",
       "      <td>2</td>\n",
       "      <td>GoldenEye (1995)</td>\n",
       "      <td>01-Jan-1995</td>\n",
       "      <td>NaN</td>\n",
       "      <td>http://us.imdb.com/M/title-exact?GoldenEye%20(...</td>\n",
       "      <td>0</td>\n",
       "      <td>1</td>\n",
       "      <td>1</td>\n",
       "      <td>0</td>\n",
       "      <td>0</td>\n",
       "      <td>0</td>\n",
       "      <td>0</td>\n",
       "      <td>0</td>\n",
       "      <td>0</td>\n",
       "      <td>0</td>\n",
       "      <td>0</td>\n",
       "      <td>0</td>\n",
       "      <td>0</td>\n",
       "      <td>0</td>\n",
       "      <td>0</td>\n",
       "      <td>0</td>\n",
       "      <td>1</td>\n",
       "      <td>0</td>\n",
       "      <td>0</td>\n",
       "    </tr>\n",
       "    <tr>\n",
       "      <th>2</th>\n",
       "      <td>3</td>\n",
       "      <td>Four Rooms (1995)</td>\n",
       "      <td>01-Jan-1995</td>\n",
       "      <td>NaN</td>\n",
       "      <td>http://us.imdb.com/M/title-exact?Four%20Rooms%...</td>\n",
       "      <td>0</td>\n",
       "      <td>0</td>\n",
       "      <td>0</td>\n",
       "      <td>0</td>\n",
       "      <td>0</td>\n",
       "      <td>0</td>\n",
       "      <td>0</td>\n",
       "      <td>0</td>\n",
       "      <td>0</td>\n",
       "      <td>0</td>\n",
       "      <td>0</td>\n",
       "      <td>0</td>\n",
       "      <td>0</td>\n",
       "      <td>0</td>\n",
       "      <td>0</td>\n",
       "      <td>0</td>\n",
       "      <td>1</td>\n",
       "      <td>0</td>\n",
       "      <td>0</td>\n",
       "    </tr>\n",
       "    <tr>\n",
       "      <th>3</th>\n",
       "      <td>4</td>\n",
       "      <td>Get Shorty (1995)</td>\n",
       "      <td>01-Jan-1995</td>\n",
       "      <td>NaN</td>\n",
       "      <td>http://us.imdb.com/M/title-exact?Get%20Shorty%...</td>\n",
       "      <td>0</td>\n",
       "      <td>1</td>\n",
       "      <td>0</td>\n",
       "      <td>0</td>\n",
       "      <td>0</td>\n",
       "      <td>1</td>\n",
       "      <td>0</td>\n",
       "      <td>0</td>\n",
       "      <td>1</td>\n",
       "      <td>0</td>\n",
       "      <td>0</td>\n",
       "      <td>0</td>\n",
       "      <td>0</td>\n",
       "      <td>0</td>\n",
       "      <td>0</td>\n",
       "      <td>0</td>\n",
       "      <td>0</td>\n",
       "      <td>0</td>\n",
       "      <td>0</td>\n",
       "    </tr>\n",
       "    <tr>\n",
       "      <th>4</th>\n",
       "      <td>5</td>\n",
       "      <td>Copycat (1995)</td>\n",
       "      <td>01-Jan-1995</td>\n",
       "      <td>NaN</td>\n",
       "      <td>http://us.imdb.com/M/title-exact?Copycat%20(1995)</td>\n",
       "      <td>0</td>\n",
       "      <td>0</td>\n",
       "      <td>0</td>\n",
       "      <td>0</td>\n",
       "      <td>0</td>\n",
       "      <td>0</td>\n",
       "      <td>1</td>\n",
       "      <td>0</td>\n",
       "      <td>1</td>\n",
       "      <td>0</td>\n",
       "      <td>0</td>\n",
       "      <td>0</td>\n",
       "      <td>0</td>\n",
       "      <td>0</td>\n",
       "      <td>0</td>\n",
       "      <td>0</td>\n",
       "      <td>1</td>\n",
       "      <td>0</td>\n",
       "      <td>0</td>\n",
       "    </tr>\n",
       "  </tbody>\n",
       "</table>\n",
       "</div>"
      ],
      "text/plain": [
       "   movie id        movie title release date  video release date  \\\n",
       "0         1   Toy Story (1995)  01-Jan-1995                 NaN   \n",
       "1         2   GoldenEye (1995)  01-Jan-1995                 NaN   \n",
       "2         3  Four Rooms (1995)  01-Jan-1995                 NaN   \n",
       "3         4  Get Shorty (1995)  01-Jan-1995                 NaN   \n",
       "4         5     Copycat (1995)  01-Jan-1995                 NaN   \n",
       "\n",
       "                                            IMDb URL  unknown  Action  \\\n",
       "0  http://us.imdb.com/M/title-exact?Toy%20Story%2...        0       0   \n",
       "1  http://us.imdb.com/M/title-exact?GoldenEye%20(...        0       1   \n",
       "2  http://us.imdb.com/M/title-exact?Four%20Rooms%...        0       0   \n",
       "3  http://us.imdb.com/M/title-exact?Get%20Shorty%...        0       1   \n",
       "4  http://us.imdb.com/M/title-exact?Copycat%20(1995)        0       0   \n",
       "\n",
       "   Adventure  Animation  Children's  Comedy  Crime  Documentary  Drama  \\\n",
       "0          0          1           1       1      0            0      0   \n",
       "1          1          0           0       0      0            0      0   \n",
       "2          0          0           0       0      0            0      0   \n",
       "3          0          0           0       1      0            0      1   \n",
       "4          0          0           0       0      1            0      1   \n",
       "\n",
       "   Fantasy  Film-Noir  Horror  Musical  Mystery  Romance  Sci-Fi  Thriller  \\\n",
       "0        0          0       0        0        0        0       0         0   \n",
       "1        0          0       0        0        0        0       0         1   \n",
       "2        0          0       0        0        0        0       0         1   \n",
       "3        0          0       0        0        0        0       0         0   \n",
       "4        0          0       0        0        0        0       0         1   \n",
       "\n",
       "   War  Western  \n",
       "0    0        0  \n",
       "1    0        0  \n",
       "2    0        0  \n",
       "3    0        0  \n",
       "4    0        0  "
      ]
     },
     "execution_count": 5,
     "metadata": {},
     "output_type": "execute_result"
    }
   ],
   "source": [
    "print(items.shape)\n",
    "items.head()"
   ]
  },
  {
   "cell_type": "markdown",
   "metadata": {},
   "source": [
    "### Exploring data"
   ]
  },
  {
   "cell_type": "code",
   "execution_count": 6,
   "metadata": {},
   "outputs": [
    {
     "data": {
      "text/plain": [
       "<matplotlib.axes._subplots.AxesSubplot at 0x11c6c0400>"
      ]
     },
     "execution_count": 6,
     "metadata": {},
     "output_type": "execute_result"
    },
    {
     "data": {
      "image/png": "[encoded data removed]",
      "text/plain": [
       "<matplotlib.figure.Figure at 0x11c6c0b70>"
      ]
     },
     "metadata": {},
     "output_type": "display_data"
    }
   ],
   "source": [
    "ratings[\"rating\"].hist(bins=6, range=(0,6))"
   ]
  },
  {
   "cell_type": "markdown",
   "metadata": {},
   "source": [
    "The ratings are skewed toward high values.  \n",
    "This is a common bias in internet ratings where people tend to rate items or movies that they liked, and rarely spend time to comment something they dislike or are indifferent to (unless they are haters, of course).  \n",
    "This distribution shape will have a big impact on the results of our recommendation engines"
   ]
  },
  {
   "cell_type": "markdown",
   "metadata": {},
   "source": [
    "How many ratings do we have per movie? Per user ? What are the corresponding distributions?"
   ]
  },
  {
   "cell_type": "code",
   "execution_count": 7,
   "metadata": {},
   "outputs": [
    {
     "data": {
      "text/plain": [
       "<matplotlib.axes._subplots.AxesSubplot at 0x11ca22e10>"
      ]
     },
     "execution_count": 7,
     "metadata": {},
     "output_type": "execute_result"
    },
    {
     "data": {
      "image/png": "[encoded data removed]",
      "text/plain": [
       "<matplotlib.figure.Figure at 0x105d38940>"
      ]
     },
     "metadata": {},
     "output_type": "display_data"
    }
   ],
   "source": [
    "users_nb = ratings[\"user_id\"].value_counts().reset_index()\n",
    "users_nb.columns = [\"user_id\", \"nb_lines\"]\n",
    "users_nb[\"nb_lines\"].hist(bins=20)"
   ]
  },
  {
   "cell_type": "code",
   "execution_count": 8,
   "metadata": {},
   "outputs": [
    {
     "data": {
      "text/plain": [
       "<matplotlib.axes._subplots.AxesSubplot at 0x11cc24748>"
      ]
     },
     "execution_count": 8,
     "metadata": {},
     "output_type": "execute_result"
    },
    {
     "data": {
      "image/png": "[encoded data removed]",
      "text/plain": [
       "<matplotlib.figure.Figure at 0x11ca4ab70>"
      ]
     },
     "metadata": {},
     "output_type": "display_data"
    }
   ],
   "source": [
    "movies_nb = ratings[\"movie_id\"].value_counts().reset_index()\n",
    "movies_nb.columns = [\"movie_od\", \"nb_lines\"]\n",
    "movies_nb[\"nb_lines\"].hist(bins=20)"
   ]
  },
  {
   "cell_type": "code",
   "execution_count": 9,
   "metadata": {},
   "outputs": [],
   "source": [
    "movie_ratings = ratings.groupby(\"movie_id\")[\"rating\"].agg([\"mean\",\"count\"])\n",
    "movie_ratings[\"movie_id\"] = movie_ratings.index\n",
    "\n",
    "movie_ratings.columns = [\"mean_rating\", \"n_reviews\", \"movie id\"]\n",
    "\n",
    "movie_ratings = pd.merge(movie_ratings, items[[\"movie id\",\"movie title\"]], \n",
    "                         on=\"movie id\").drop(\"movie id\", axis=1)\n",
    "\n",
    "movie_ratings = movie_ratings.sort_values(\"mean_rating\", ascending=False)"
   ]
  },
  {
   "cell_type": "code",
   "execution_count": 10,
   "metadata": {},
   "outputs": [
    {
     "data": {
      "text/html": [
       "<div>\n",
       "<table border=\"1\" class=\"dataframe\">\n",
       "  <thead>\n",
       "    <tr style=\"text-align: right;\">\n",
       "      <th></th>\n",
       "      <th>mean_rating</th>\n",
       "      <th>n_reviews</th>\n",
       "      <th>movie title</th>\n",
       "    </tr>\n",
       "  </thead>\n",
       "  <tbody>\n",
       "    <tr>\n",
       "      <th>407</th>\n",
       "      <td>4.491071</td>\n",
       "      <td>112</td>\n",
       "      <td>Close Shave, A (1995)</td>\n",
       "    </tr>\n",
       "    <tr>\n",
       "      <th>317</th>\n",
       "      <td>4.466443</td>\n",
       "      <td>298</td>\n",
       "      <td>Schindler's List (1993)</td>\n",
       "    </tr>\n",
       "    <tr>\n",
       "      <th>168</th>\n",
       "      <td>4.466102</td>\n",
       "      <td>118</td>\n",
       "      <td>Wrong Trousers, The (1993)</td>\n",
       "    </tr>\n",
       "    <tr>\n",
       "      <th>482</th>\n",
       "      <td>4.456790</td>\n",
       "      <td>243</td>\n",
       "      <td>Casablanca (1942)</td>\n",
       "    </tr>\n",
       "    <tr>\n",
       "      <th>113</th>\n",
       "      <td>4.447761</td>\n",
       "      <td>67</td>\n",
       "      <td>Wallace &amp; Gromit: The Best of Aardman Animatio...</td>\n",
       "    </tr>\n",
       "    <tr>\n",
       "      <th>63</th>\n",
       "      <td>4.445230</td>\n",
       "      <td>283</td>\n",
       "      <td>Shawshank Redemption, The (1994)</td>\n",
       "    </tr>\n",
       "    <tr>\n",
       "      <th>602</th>\n",
       "      <td>4.387560</td>\n",
       "      <td>209</td>\n",
       "      <td>Rear Window (1954)</td>\n",
       "    </tr>\n",
       "    <tr>\n",
       "      <th>11</th>\n",
       "      <td>4.385768</td>\n",
       "      <td>267</td>\n",
       "      <td>Usual Suspects, The (1995)</td>\n",
       "    </tr>\n",
       "    <tr>\n",
       "      <th>49</th>\n",
       "      <td>4.358491</td>\n",
       "      <td>583</td>\n",
       "      <td>Star Wars (1977)</td>\n",
       "    </tr>\n",
       "    <tr>\n",
       "      <th>177</th>\n",
       "      <td>4.344000</td>\n",
       "      <td>125</td>\n",
       "      <td>12 Angry Men (1957)</td>\n",
       "    </tr>\n",
       "  </tbody>\n",
       "</table>\n",
       "</div>"
      ],
      "text/plain": [
       "     mean_rating  n_reviews                                        movie title\n",
       "407     4.491071        112                              Close Shave, A (1995)\n",
       "317     4.466443        298                            Schindler's List (1993)\n",
       "168     4.466102        118                         Wrong Trousers, The (1993)\n",
       "482     4.456790        243                                  Casablanca (1942)\n",
       "113     4.447761         67  Wallace & Gromit: The Best of Aardman Animatio...\n",
       "63      4.445230        283                   Shawshank Redemption, The (1994)\n",
       "602     4.387560        209                                 Rear Window (1954)\n",
       "11      4.385768        267                         Usual Suspects, The (1995)\n",
       "49      4.358491        583                                   Star Wars (1977)\n",
       "177     4.344000        125                                12 Angry Men (1957)"
      ]
     },
     "execution_count": 10,
     "metadata": {},
     "output_type": "execute_result"
    }
   ],
   "source": [
    "# Top 20 Movies\n",
    "movie_ratings[movie_ratings[\"n_reviews\"] > 50][:10]"
   ]
  },
  {
   "cell_type": "code",
   "execution_count": 11,
   "metadata": {},
   "outputs": [
    {
     "data": {
      "text/html": [
       "<div>\n",
       "<table border=\"1\" class=\"dataframe\">\n",
       "  <thead>\n",
       "    <tr style=\"text-align: right;\">\n",
       "      <th></th>\n",
       "      <th>mean_rating</th>\n",
       "      <th>n_reviews</th>\n",
       "      <th>movie title</th>\n",
       "    </tr>\n",
       "  </thead>\n",
       "  <tbody>\n",
       "    <tr>\n",
       "      <th>144</th>\n",
       "      <td>2.446154</td>\n",
       "      <td>65</td>\n",
       "      <td>Lawnmower Man, The (1992)</td>\n",
       "    </tr>\n",
       "    <tr>\n",
       "      <th>242</th>\n",
       "      <td>2.439394</td>\n",
       "      <td>132</td>\n",
       "      <td>Jungle2Jungle (1997)</td>\n",
       "    </tr>\n",
       "    <tr>\n",
       "      <th>870</th>\n",
       "      <td>2.400000</td>\n",
       "      <td>75</td>\n",
       "      <td>Vegas Vacation (1997)</td>\n",
       "    </tr>\n",
       "    <tr>\n",
       "      <th>411</th>\n",
       "      <td>2.397849</td>\n",
       "      <td>93</td>\n",
       "      <td>Very Brady Sequel, A (1996)</td>\n",
       "    </tr>\n",
       "    <tr>\n",
       "      <th>449</th>\n",
       "      <td>2.396825</td>\n",
       "      <td>63</td>\n",
       "      <td>Star Trek V: The Final Frontier (1989)</td>\n",
       "    </tr>\n",
       "    <tr>\n",
       "      <th>121</th>\n",
       "      <td>2.339623</td>\n",
       "      <td>106</td>\n",
       "      <td>Cable Guy, The (1996)</td>\n",
       "    </tr>\n",
       "    <tr>\n",
       "      <th>987</th>\n",
       "      <td>2.313953</td>\n",
       "      <td>86</td>\n",
       "      <td>Beautician and the Beast, The (1997)</td>\n",
       "    </tr>\n",
       "    <tr>\n",
       "      <th>119</th>\n",
       "      <td>2.238806</td>\n",
       "      <td>67</td>\n",
       "      <td>Striptease (1996)</td>\n",
       "    </tr>\n",
       "    <tr>\n",
       "      <th>686</th>\n",
       "      <td>2.188406</td>\n",
       "      <td>69</td>\n",
       "      <td>McHale's Navy (1997)</td>\n",
       "    </tr>\n",
       "    <tr>\n",
       "      <th>930</th>\n",
       "      <td>2.157895</td>\n",
       "      <td>57</td>\n",
       "      <td>Island of Dr. Moreau, The (1996)</td>\n",
       "    </tr>\n",
       "  </tbody>\n",
       "</table>\n",
       "</div>"
      ],
      "text/plain": [
       "     mean_rating  n_reviews                             movie title\n",
       "144     2.446154         65               Lawnmower Man, The (1992)\n",
       "242     2.439394        132                    Jungle2Jungle (1997)\n",
       "870     2.400000         75                   Vegas Vacation (1997)\n",
       "411     2.397849         93             Very Brady Sequel, A (1996)\n",
       "449     2.396825         63  Star Trek V: The Final Frontier (1989)\n",
       "121     2.339623        106                   Cable Guy, The (1996)\n",
       "987     2.313953         86    Beautician and the Beast, The (1997)\n",
       "119     2.238806         67                       Striptease (1996)\n",
       "686     2.188406         69                    McHale's Navy (1997)\n",
       "930     2.157895         57        Island of Dr. Moreau, The (1996)"
      ]
     },
     "execution_count": 11,
     "metadata": {},
     "output_type": "execute_result"
    }
   ],
   "source": [
    "# Worse 20 Movies\n",
    "movie_ratings[movie_ratings[\"n_reviews\"] > 50][-10:]"
   ]
  },
  {
   "cell_type": "markdown",
   "metadata": {},
   "source": [
    "## Building an explicit recommendation engine"
   ]
  },
  {
   "cell_type": "markdown",
   "metadata": {},
   "source": [
    "It basically boils down to a regression problem where we try to predict the ratings for each user. This means that a movie will be recommended to a user that (s)he is likely to rate highly.\n",
    "\n",
    "The first model will be based on a matrix factorisation approach. The idea is to project movie and users in a common latent space."
   ]
  },
  {
   "cell_type": "code",
   "execution_count": 12,
   "metadata": {},
   "outputs": [],
   "source": [
    "n_users = ratings.user_id.unique().shape[0]\n",
    "n_items = ratings.movie_id.unique().shape[0]"
   ]
  },
  {
   "cell_type": "markdown",
   "metadata": {},
   "source": [
    "Since movie and user ids are numbered from 1, we need to make these counters starts from 0 to be compatible with keras Embedding layers."
   ]
  },
  {
   "cell_type": "code",
   "execution_count": 13,
   "metadata": {},
   "outputs": [],
   "source": [
    "ratings[\"movie_id\"] -= 1\n",
    "ratings[\"user_id\"]  -= 1"
   ]
  },
  {
   "cell_type": "code",
   "execution_count": 42,
   "metadata": {},
   "outputs": [
    {
     "data": {
      "image/svg+xml": [
       "<svg height=\"296pt\" viewBox=\"0.00 0.00 681.56 296.00\" width=\"682pt\" xmlns=\"http://www.w3.org/2000/svg\" xmlns:xlink=\"http://www.w3.org/1999/xlink\">\n",
       "<g class=\"graph\" id=\"graph0\" transform=\"scale(1 1) rotate(0) translate(4 292)\">\n",
       "<title>G</title>\n",
       "<polygon fill=\"white\" points=\"-4,4 -4,-292 677.562,-292 677.562,4 -4,4\" stroke=\"none\"/>\n",
       "<!-- 5127230240 -->\n",
       "<g class=\"node\" id=\"node1\"><title>5127230240</title>\n",
       "<polygon fill=\"none\" points=\"46.2793,-243.5 46.2793,-287.5 280.504,-287.5 280.504,-243.5 46.2793,-243.5\" stroke=\"black\"/>\n",
       "<text font-family=\"Times,serif\" font-size=\"14.00\" text-anchor=\"middle\" x=\"100.733\" y=\"-261.3\">user: InputLayer</text>\n",
       "<polyline fill=\"none\" points=\"155.187,-243.5 155.187,-287.5 \" stroke=\"black\"/>\n",
       "<text font-family=\"Times,serif\" font-size=\"14.00\" text-anchor=\"middle\" x=\"183.021\" y=\"-272.3\">input:</text>\n",
       "<polyline fill=\"none\" points=\"155.187,-265.5 210.855,-265.5 \" stroke=\"black\"/>\n",
       "<text font-family=\"Times,serif\" font-size=\"14.00\" text-anchor=\"middle\" x=\"183.021\" y=\"-250.3\">output:</text>\n",
       "<polyline fill=\"none\" points=\"210.855,-243.5 210.855,-287.5 \" stroke=\"black\"/>\n",
       "<text font-family=\"Times,serif\" font-size=\"14.00\" text-anchor=\"middle\" x=\"245.68\" y=\"-272.3\">(None, 1)</text>\n",
       "<polyline fill=\"none\" points=\"210.855,-265.5 280.504,-265.5 \" stroke=\"black\"/>\n",
       "<text font-family=\"Times,serif\" font-size=\"14.00\" text-anchor=\"middle\" x=\"245.68\" y=\"-250.3\">(None, 1)</text>\n",
       "</g>\n",
       "<!-- 5127386000 -->\n",
       "<g class=\"node\" id=\"node3\"><title>5127386000</title>\n",
       "<polygon fill=\"none\" points=\"0,-162.5 0,-206.5 326.783,-206.5 326.783,-162.5 0,-162.5\" stroke=\"black\"/>\n",
       "<text font-family=\"Times,serif\" font-size=\"14.00\" text-anchor=\"middle\" x=\"90.2329\" y=\"-180.3\">user_embedding: Embedding</text>\n",
       "<polyline fill=\"none\" points=\"180.466,-162.5 180.466,-206.5 \" stroke=\"black\"/>\n",
       "<text font-family=\"Times,serif\" font-size=\"14.00\" text-anchor=\"middle\" x=\"208.3\" y=\"-191.3\">input:</text>\n",
       "<polyline fill=\"none\" points=\"180.466,-184.5 236.135,-184.5 \" stroke=\"black\"/>\n",
       "<text font-family=\"Times,serif\" font-size=\"14.00\" text-anchor=\"middle\" x=\"208.3\" y=\"-169.3\">output:</text>\n",
       "<polyline fill=\"none\" points=\"236.135,-162.5 236.135,-206.5 \" stroke=\"black\"/>\n",
       "<text font-family=\"Times,serif\" font-size=\"14.00\" text-anchor=\"middle\" x=\"281.459\" y=\"-191.3\">(None, 1)</text>\n",
       "<polyline fill=\"none\" points=\"236.135,-184.5 326.783,-184.5 \" stroke=\"black\"/>\n",
       "<text font-family=\"Times,serif\" font-size=\"14.00\" text-anchor=\"middle\" x=\"281.459\" y=\"-169.3\">(None, 1, 30)</text>\n",
       "</g>\n",
       "<!-- 5127230240&#45;&gt;5127386000 -->\n",
       "<g class=\"edge\" id=\"edge1\"><title>5127230240-&gt;5127386000</title>\n",
       "<path d=\"M163.392,-243.329C163.392,-235.183 163.392,-225.699 163.392,-216.797\" fill=\"none\" stroke=\"black\"/>\n",
       "<polygon fill=\"black\" points=\"166.892,-216.729 163.392,-206.729 159.892,-216.729 166.892,-216.729\" stroke=\"black\"/>\n",
       "</g>\n",
       "<!-- 5127260032 -->\n",
       "<g class=\"node\" id=\"node2\"><title>5127260032</title>\n",
       "<polygon fill=\"none\" points=\"391.5,-243.5 391.5,-287.5 627.283,-287.5 627.283,-243.5 391.5,-243.5\" stroke=\"black\"/>\n",
       "<text font-family=\"Times,serif\" font-size=\"14.00\" text-anchor=\"middle\" x=\"446.733\" y=\"-261.3\">item: InputLayer</text>\n",
       "<polyline fill=\"none\" points=\"501.966,-243.5 501.966,-287.5 \" stroke=\"black\"/>\n",
       "<text font-family=\"Times,serif\" font-size=\"14.00\" text-anchor=\"middle\" x=\"529.8\" y=\"-272.3\">input:</text>\n",
       "<polyline fill=\"none\" points=\"501.966,-265.5 557.635,-265.5 \" stroke=\"black\"/>\n",
       "<text font-family=\"Times,serif\" font-size=\"14.00\" text-anchor=\"middle\" x=\"529.8\" y=\"-250.3\">output:</text>\n",
       "<polyline fill=\"none\" points=\"557.635,-243.5 557.635,-287.5 \" stroke=\"black\"/>\n",
       "<text font-family=\"Times,serif\" font-size=\"14.00\" text-anchor=\"middle\" x=\"592.459\" y=\"-272.3\">(None, 1)</text>\n",
       "<polyline fill=\"none\" points=\"557.635,-265.5 627.283,-265.5 \" stroke=\"black\"/>\n",
       "<text font-family=\"Times,serif\" font-size=\"14.00\" text-anchor=\"middle\" x=\"592.459\" y=\"-250.3\">(None, 1)</text>\n",
       "</g>\n",
       "<!-- 5121689864 -->\n",
       "<g class=\"node\" id=\"node4\"><title>5121689864</title>\n",
       "<polygon fill=\"none\" points=\"345.221,-162.5 345.221,-206.5 673.562,-206.5 673.562,-162.5 345.221,-162.5\" stroke=\"black\"/>\n",
       "<text font-family=\"Times,serif\" font-size=\"14.00\" text-anchor=\"middle\" x=\"436.233\" y=\"-180.3\">item_embedding: Embedding</text>\n",
       "<polyline fill=\"none\" points=\"527.245,-162.5 527.245,-206.5 \" stroke=\"black\"/>\n",
       "<text font-family=\"Times,serif\" font-size=\"14.00\" text-anchor=\"middle\" x=\"555.08\" y=\"-191.3\">input:</text>\n",
       "<polyline fill=\"none\" points=\"527.245,-184.5 582.914,-184.5 \" stroke=\"black\"/>\n",
       "<text font-family=\"Times,serif\" font-size=\"14.00\" text-anchor=\"middle\" x=\"555.08\" y=\"-169.3\">output:</text>\n",
       "<polyline fill=\"none\" points=\"582.914,-162.5 582.914,-206.5 \" stroke=\"black\"/>\n",
       "<text font-family=\"Times,serif\" font-size=\"14.00\" text-anchor=\"middle\" x=\"628.238\" y=\"-191.3\">(None, 1)</text>\n",
       "<polyline fill=\"none\" points=\"582.914,-184.5 673.562,-184.5 \" stroke=\"black\"/>\n",
       "<text font-family=\"Times,serif\" font-size=\"14.00\" text-anchor=\"middle\" x=\"628.238\" y=\"-169.3\">(None, 1, 30)</text>\n",
       "</g>\n",
       "<!-- 5127260032&#45;&gt;5121689864 -->\n",
       "<g class=\"edge\" id=\"edge2\"><title>5127260032-&gt;5121689864</title>\n",
       "<path d=\"M509.392,-243.329C509.392,-235.183 509.392,-225.699 509.392,-216.797\" fill=\"none\" stroke=\"black\"/>\n",
       "<polygon fill=\"black\" points=\"512.892,-216.729 509.392,-206.729 505.892,-216.729 512.892,-216.729\" stroke=\"black\"/>\n",
       "</g>\n",
       "<!-- 5121688856 -->\n",
       "<g class=\"node\" id=\"node5\"><title>5121688856</title>\n",
       "<polygon fill=\"none\" points=\"46.2046,-81.5 46.2046,-125.5 326.579,-125.5 326.579,-81.5 46.2046,-81.5\" stroke=\"black\"/>\n",
       "<text font-family=\"Times,serif\" font-size=\"14.00\" text-anchor=\"middle\" x=\"113.233\" y=\"-99.3\">reshape_11: Reshape</text>\n",
       "<polyline fill=\"none\" points=\"180.261,-81.5 180.261,-125.5 \" stroke=\"black\"/>\n",
       "<text font-family=\"Times,serif\" font-size=\"14.00\" text-anchor=\"middle\" x=\"208.096\" y=\"-110.3\">input:</text>\n",
       "<polyline fill=\"none\" points=\"180.261,-103.5 235.93,-103.5 \" stroke=\"black\"/>\n",
       "<text font-family=\"Times,serif\" font-size=\"14.00\" text-anchor=\"middle\" x=\"208.096\" y=\"-88.3\">output:</text>\n",
       "<polyline fill=\"none\" points=\"235.93,-81.5 235.93,-125.5 \" stroke=\"black\"/>\n",
       "<text font-family=\"Times,serif\" font-size=\"14.00\" text-anchor=\"middle\" x=\"281.254\" y=\"-110.3\">(None, 1, 30)</text>\n",
       "<polyline fill=\"none\" points=\"235.93,-103.5 326.579,-103.5 \" stroke=\"black\"/>\n",
       "<text font-family=\"Times,serif\" font-size=\"14.00\" text-anchor=\"middle\" x=\"281.254\" y=\"-88.3\">(None, 30)</text>\n",
       "</g>\n",
       "<!-- 5127386000&#45;&gt;5121688856 -->\n",
       "<g class=\"edge\" id=\"edge3\"><title>5127386000-&gt;5121688856</title>\n",
       "<path d=\"M169.555,-162.329C171.953,-154.094 174.748,-144.493 177.364,-135.507\" fill=\"none\" stroke=\"black\"/>\n",
       "<polygon fill=\"black\" points=\"180.776,-136.309 180.211,-125.729 174.055,-134.352 180.776,-136.309\" stroke=\"black\"/>\n",
       "</g>\n",
       "<!-- 5121688744 -->\n",
       "<g class=\"node\" id=\"node6\"><title>5121688744</title>\n",
       "<polygon fill=\"none\" points=\"356.948,-81.5 356.948,-125.5 637.835,-125.5 637.835,-81.5 356.948,-81.5\" stroke=\"black\"/>\n",
       "<text font-family=\"Times,serif\" font-size=\"14.00\" text-anchor=\"middle\" x=\"424.233\" y=\"-99.3\">reshape_12: Reshape</text>\n",
       "<polyline fill=\"none\" points=\"491.518,-81.5 491.518,-125.5 \" stroke=\"black\"/>\n",
       "<text font-family=\"Times,serif\" font-size=\"14.00\" text-anchor=\"middle\" x=\"519.352\" y=\"-110.3\">input:</text>\n",
       "<polyline fill=\"none\" points=\"491.518,-103.5 547.187,-103.5 \" stroke=\"black\"/>\n",
       "<text font-family=\"Times,serif\" font-size=\"14.00\" text-anchor=\"middle\" x=\"519.352\" y=\"-88.3\">output:</text>\n",
       "<polyline fill=\"none\" points=\"547.187,-81.5 547.187,-125.5 \" stroke=\"black\"/>\n",
       "<text font-family=\"Times,serif\" font-size=\"14.00\" text-anchor=\"middle\" x=\"592.511\" y=\"-110.3\">(None, 1, 30)</text>\n",
       "<polyline fill=\"none\" points=\"547.187,-103.5 637.835,-103.5 \" stroke=\"black\"/>\n",
       "<text font-family=\"Times,serif\" font-size=\"14.00\" text-anchor=\"middle\" x=\"592.511\" y=\"-88.3\">(None, 30)</text>\n",
       "</g>\n",
       "<!-- 5121689864&#45;&gt;5121688744 -->\n",
       "<g class=\"edge\" id=\"edge4\"><title>5121689864-&gt;5121688744</title>\n",
       "<path d=\"M506.176,-162.329C504.938,-154.183 503.498,-144.699 502.146,-135.797\" fill=\"none\" stroke=\"black\"/>\n",
       "<polygon fill=\"black\" points=\"505.578,-135.09 500.616,-125.729 498.658,-136.141 505.578,-135.09\" stroke=\"black\"/>\n",
       "</g>\n",
       "<!-- 5121688464 -->\n",
       "<g class=\"node\" id=\"node7\"><title>5121688464</title>\n",
       "<polygon fill=\"none\" points=\"198.607,-0.5 198.607,-44.5 484.176,-44.5 484.176,-0.5 198.607,-0.5\" stroke=\"black\"/>\n",
       "<text font-family=\"Times,serif\" font-size=\"14.00\" text-anchor=\"middle\" x=\"236.747\" y=\"-18.3\">dot_6: Dot</text>\n",
       "<polyline fill=\"none\" points=\"274.886,-0.5 274.886,-44.5 \" stroke=\"black\"/>\n",
       "<text font-family=\"Times,serif\" font-size=\"14.00\" text-anchor=\"middle\" x=\"302.721\" y=\"-29.3\">input:</text>\n",
       "<polyline fill=\"none\" points=\"274.886,-22.5 330.555,-22.5 \" stroke=\"black\"/>\n",
       "<text font-family=\"Times,serif\" font-size=\"14.00\" text-anchor=\"middle\" x=\"302.721\" y=\"-7.3\">output:</text>\n",
       "<polyline fill=\"none\" points=\"330.555,-0.5 330.555,-44.5 \" stroke=\"black\"/>\n",
       "<text font-family=\"Times,serif\" font-size=\"14.00\" text-anchor=\"middle\" x=\"407.366\" y=\"-29.3\">[(None, 30), (None, 30)]</text>\n",
       "<polyline fill=\"none\" points=\"330.555,-22.5 484.176,-22.5 \" stroke=\"black\"/>\n",
       "<text font-family=\"Times,serif\" font-size=\"14.00\" text-anchor=\"middle\" x=\"406.879\" y=\"-7.3\">(None, 1)</text>\n",
       "</g>\n",
       "<!-- 5121688856&#45;&gt;5121688464 -->\n",
       "<g class=\"edge\" id=\"edge5\"><title>5121688856-&gt;5121688464</title>\n",
       "<path d=\"M227.929,-81.3294C247.292,-71.4605 270.504,-59.63 290.874,-49.2479\" fill=\"none\" stroke=\"black\"/>\n",
       "<polygon fill=\"black\" points=\"292.689,-52.2513 300.009,-44.5919 289.51,-46.0146 292.689,-52.2513\" stroke=\"black\"/>\n",
       "</g>\n",
       "<!-- 5121688744&#45;&gt;5121688464 -->\n",
       "<g class=\"edge\" id=\"edge6\"><title>5121688744-&gt;5121688464</title>\n",
       "<path d=\"M455.586,-81.3294C436.098,-71.4605 412.737,-59.63 392.236,-49.2479\" fill=\"none\" stroke=\"black\"/>\n",
       "<polygon fill=\"black\" points=\"393.544,-45.9873 383.041,-44.5919 390.381,-52.2322 393.544,-45.9873\" stroke=\"black\"/>\n",
       "</g>\n",
       "</g>\n",
       "</svg>"
      ],
      "text/plain": [
       "<IPython.core.display.SVG object>"
      ]
     },
     "execution_count": 42,
     "metadata": {},
     "output_type": "execute_result"
    }
   ],
   "source": [
    "from keras.models import Model\n",
    "from keras.layers import Input, Embedding, Reshape, Dot, Concatenate, Dense, Dropout\n",
    "\n",
    "user_id_input = Input(shape=[1], name='user')\n",
    "item_id_input = Input(shape=[1], name='item')\n",
    "\n",
    "embedding_size = 30\n",
    "user_embedding = Embedding(output_dim=embedding_size, input_dim=n_users,\n",
    "                           input_length=1, name='user_embedding')(user_id_input)\n",
    "item_embedding = Embedding(output_dim=embedding_size, input_dim=n_items,\n",
    "                           input_length=1, name='item_embedding')(item_id_input)\n",
    "\n",
    "user_vecs = Reshape([embedding_size])(user_embedding)\n",
    "item_vecs = Reshape([embedding_size])(item_embedding)\n",
    "\n",
    "y = Dot(1, normalize=False)([user_vecs, item_vecs])\n",
    "\n",
    "# input_vecs = Concatenate()([user_vecs, item_vecs])\n",
    "# x = Dense(128, activation='relu')(input_vecs)\n",
    "# y = Dense(1)(x)\n",
    "\n",
    "model = Model(inputs=[user_id_input, item_id_input], outputs=y)\n",
    "\n",
    "model.compile(loss='mse',\n",
    "              optimizer=\"adam\")\n",
    "\n",
    "from IPython.display import SVG\n",
    "from keras.utils.vis_utils import model_to_dot\n",
    "from keras.utils import plot_model\n",
    "\n",
    "SVG(model_to_dot(model, show_shapes=True).create(prog='dot', format='svg'))"
   ]
  },
  {
   "cell_type": "markdown",
   "metadata": {},
   "source": [
    "Let's create two user-item matrices, one for training and another for testing"
   ]
  },
  {
   "cell_type": "code",
   "execution_count": 43,
   "metadata": {},
   "outputs": [],
   "source": [
    "from sklearn.model_selection import train_test_split\n",
    "ratings_train, ratings_test = train_test_split(ratings, test_size=0.25)"
   ]
  },
  {
   "cell_type": "code",
   "execution_count": 44,
   "metadata": {},
   "outputs": [
    {
     "name": "stdout",
     "output_type": "stream",
     "text": [
      "Train on 67500 samples, validate on 7500 samples\n",
      "Epoch 1/10\n",
      "67500/67500 [==============================] - 2s 36us/step - loss: 11.2397 - val_loss: 4.3178\n",
      "Epoch 2/10\n",
      "67500/67500 [==============================] - 2s 31us/step - loss: 2.0520 - val_loss: 1.2930\n",
      "Epoch 3/10\n",
      "67500/67500 [==============================] - 2s 30us/step - loss: 1.1005 - val_loss: 1.0206\n",
      "Epoch 4/10\n",
      "67500/67500 [==============================] - 2s 30us/step - loss: 0.9535 - val_loss: 0.9468\n",
      "Epoch 5/10\n",
      "67500/67500 [==============================] - 2s 31us/step - loss: 0.9073 - val_loss: 0.9209\n",
      "Epoch 6/10\n",
      "67500/67500 [==============================] - 2s 31us/step - loss: 0.8841 - val_loss: 0.9034\n",
      "Epoch 7/10\n",
      "67500/67500 [==============================] - 2s 31us/step - loss: 0.8671 - val_loss: 0.8958\n",
      "Epoch 8/10\n",
      "67500/67500 [==============================] - 2s 32us/step - loss: 0.8484 - val_loss: 0.88718\n",
      "Epoch 9/10\n",
      "67500/67500 [==============================] - 2s 31us/step - loss: 0.8299 - val_loss: 0.8774\n",
      "Epoch 10/10\n",
      "67500/67500 [==============================] - 2s 31us/step - loss: 0.8056 - val_loss: 0.8700\n"
     ]
    }
   ],
   "source": [
    "history = model.fit([ratings_train[\"user_id\"], ratings_train[\"movie_id\"]],\n",
    "                    ratings_train[\"rating\"],\n",
    "                    batch_size=64, epochs=10,\n",
    "                    validation_split=0.1,\n",
    "                    shuffle=True)"
   ]
  },
  {
   "cell_type": "code",
   "execution_count": 45,
   "metadata": {},
   "outputs": [
    {
     "data": {
      "image/png": "[encoded data removed]",
      "text/plain": [
       "<matplotlib.figure.Figure at 0x1304035c0>"
      ]
     },
     "metadata": {},
     "output_type": "display_data"
    }
   ],
   "source": [
    "plt.figure()\n",
    "plt.plot(history.history[\"loss\"], label=\"train loss matrix factorization\")\n",
    "plt.plot(history.history[\"val_loss\"], label=\"validation loss matrix factorization\")\n",
    "plt.xlabel(\"Epochs\")\n",
    "plt.ylabel(\"MSE\")\n",
    "plt.legend()\n",
    "plt.show()"
   ]
  },
  {
   "cell_type": "markdown",
   "metadata": {},
   "source": [
    "Here again, there could be some parameter optimization, especially concerning the number of latent vectors (or embedding size)."
   ]
  },
  {
   "cell_type": "markdown",
   "metadata": {},
   "source": [
    "### Non-negative Matrix Factorization\n",
    "\n"
   ]
  },
  {
   "cell_type": "code",
   "execution_count": 57,
   "metadata": {},
   "outputs": [
    {
     "data": {
      "text/plain": [
       "<matplotlib.legend.Legend at 0x131c935f8>"
      ]
     },
     "execution_count": 57,
     "metadata": {},
     "output_type": "execute_result"
    },
    {
     "data": {
      "image/png": "[encoded data removed]",
      "text/plain": [
       "<matplotlib.figure.Figure at 0x131c9ee10>"
      ]
     },
     "metadata": {},
     "output_type": "display_data"
    }
   ],
   "source": [
    "user_embedding_learnt = model.get_layer(name='user_embedding').get_weights()[0]\n",
    "pd.DataFrame(user_embedding_learnt).describe()\n",
    "\n",
    "plt.figure(figsize=(10,4))\n",
    "for i in range(user_embedding_learnt.shape[-1]):\n",
    "    pd.Series(user_embedding_learnt[i]).hist(alpha=0.3, \n",
    "                                             bins=40, \n",
    "                                             range=(user_embedding_learnt.min(), user_embedding_learnt.max()), label=\"user latent factor \"+str(i))\n",
    "    if i >= 10:\n",
    "        break\n",
    "        \n",
    "plt.legend()"
   ]
  },
  {
   "cell_type": "markdown",
   "metadata": {},
   "source": [
    "We can see that both the user embeddings (as well as the item embeddings) have negative elements. There are some applications which require that the learnt embeddings be non-negative. This approach is also called non-negative matrix factorisation, which we'll workout now."
   ]
  },
  {
   "cell_type": "code",
   "execution_count": 59,
   "metadata": {},
   "outputs": [
    {
     "name": "stdout",
     "output_type": "stream",
     "text": [
      "Train on 67500 samples, validate on 7500 samples\n",
      "Epoch 1/10\n",
      "67500/67500 [==============================] - 3s 40us/step - loss: 7.5464 - val_loss: 2.2316\n",
      "Epoch 2/10\n",
      "67500/67500 [==============================] - 2s 35us/step - loss: 1.4913 - val_loss: 1.1548- ETA: 0s - loss: 1.5\n",
      "Epoch 3/10\n",
      "67500/67500 [==============================] - 2s 35us/step - loss: 1.0341 - val_loss: 0.9848\n",
      "Epoch 4/10\n",
      "67500/67500 [==============================] - 2s 34us/step - loss: 0.9401 - val_loss: 0.9365\n",
      "Epoch 5/10\n",
      "67500/67500 [==============================] - 2s 35us/step - loss: 0.9093 - val_loss: 0.9221\n",
      "Epoch 6/10\n",
      "67500/67500 [==============================] - 2s 35us/step - loss: 0.8976 - val_loss: 0.9048\n",
      "Epoch 7/10\n",
      "67500/67500 [==============================] - 2s 35us/step - loss: 0.8905 - val_loss: 0.9032\n",
      "Epoch 8/10\n",
      "67500/67500 [==============================] - 3s 40us/step - loss: 0.8867 - val_loss: 0.8968\n",
      "Epoch 9/10\n",
      "67500/67500 [==============================] - 2s 36us/step - loss: 0.8831 - val_loss: 0.8977\n",
      "Epoch 10/10\n",
      "67500/67500 [==============================] - 2s 36us/step - loss: 0.8808 - val_loss: 0.8961\n"
     ]
    }
   ],
   "source": [
    "from keras.constraints import non_neg\n",
    "\n",
    "user_id_input = Input(shape=[1], name='user')\n",
    "user_embedding = Embedding(output_dim=embedding_size, input_dim=n_users,\n",
    "                           input_length=1, name='user_embedding', embeddings_constraint=non_neg())(user_id_input)\n",
    "user_vecs = Reshape([embedding_size])(user_embedding)\n",
    "\n",
    "item_id_input = Input(shape=[1], name='item')\n",
    "item_embedding = Embedding(output_dim=embedding_size, input_dim=n_items,\n",
    "                           input_length=1, name='item_embedding', embeddings_constraint=non_neg())(item_id_input)\n",
    "item_vecs = Reshape([embedding_size])(item_embedding)\n",
    "\n",
    "y = Dot(1, normalize=False)([user_vecs, item_vecs])\n",
    "\n",
    "model = Model(inputs=[user_id_input, item_id_input], outputs=y)\n",
    "\n",
    "model.compile(loss='mse',\n",
    "              optimizer=\"adam\")\n",
    "\n",
    "history = model.fit([ratings_train[\"user_id\"], ratings_train[\"movie_id\"]],\n",
    "                    ratings_train[\"rating\"],\n",
    "                    batch_size=64, epochs=10,\n",
    "                    validation_split=0.1,\n",
    "                    shuffle=True)"
   ]
  },
  {
   "cell_type": "code",
   "execution_count": 60,
   "metadata": {},
   "outputs": [
    {
     "data": {
      "text/plain": [
       "<matplotlib.legend.Legend at 0x134266ef0>"
      ]
     },
     "execution_count": 60,
     "metadata": {},
     "output_type": "execute_result"
    },
    {
     "data": {
      "image/png": "[encoded data removed]",
      "text/plain": [
       "<matplotlib.figure.Figure at 0x11dcdea58>"
      ]
     },
     "metadata": {},
     "output_type": "display_data"
    }
   ],
   "source": [
    "user_embedding_learnt = model.get_layer(name='user_embedding').get_weights()[0]\n",
    "pd.DataFrame(user_embedding_learnt).describe()\n",
    "\n",
    "plt.figure(figsize=(10,4))\n",
    "for i in range(user_embedding_learnt.shape[-1]):\n",
    "    pd.Series(user_embedding_learnt[i]).hist(alpha=0.3, \n",
    "                                             bins=40, \n",
    "                                             range=(user_embedding_learnt.min(), user_embedding_learnt.max()), label=\"user latent factor \"+str(i))\n",
    "    if i >= 10:\n",
    "        break\n",
    "        \n",
    "plt.legend()"
   ]
  },
  {
   "cell_type": "markdown",
   "metadata": {},
   "source": [
    "### Neural networks for recommendation\n",
    "We'll now create a simple neural network for recommendation, or for estimating rating! This model is very similar to the earlier matrix factorisation models, but differs in the following ways:\n",
    "\n",
    "1. Instead of taking a dot product of the user and the item embedding, we concatenate them and use them as features for our neural network. Thus, we are not constrained to the dot product way of combining the embeddings, and can learn complex non-linear relationships.\n",
    "1. Due to #1, we can now have a different dimension of user and item embeddings. This can be useful if one dimension is larger than the other.\n"
   ]
  },
  {
   "cell_type": "code",
   "execution_count": 61,
   "metadata": {},
   "outputs": [
    {
     "data": {
      "image/svg+xml": [
       "<svg height=\"620pt\" viewBox=\"0.00 0.00 667.56 620.00\" width=\"668pt\" xmlns=\"http://www.w3.org/2000/svg\" xmlns:xlink=\"http://www.w3.org/1999/xlink\">\n",
       "<g class=\"graph\" id=\"graph0\" transform=\"scale(1 1) rotate(0) translate(4 616)\">\n",
       "<title>G</title>\n",
       "<polygon fill=\"white\" points=\"-4,4 -4,-616 663.562,-616 663.562,4 -4,4\" stroke=\"none\"/>\n",
       "<!-- 5190925168 -->\n",
       "<g class=\"node\" id=\"node1\"><title>5190925168</title>\n",
       "<polygon fill=\"none\" points=\"42.7793,-567.5 42.7793,-611.5 277.004,-611.5 277.004,-567.5 42.7793,-567.5\" stroke=\"black\"/>\n",
       "<text font-family=\"Times,serif\" font-size=\"14.00\" text-anchor=\"middle\" x=\"97.2329\" y=\"-585.3\">user: InputLayer</text>\n",
       "<polyline fill=\"none\" points=\"151.687,-567.5 151.687,-611.5 \" stroke=\"black\"/>\n",
       "<text font-family=\"Times,serif\" font-size=\"14.00\" text-anchor=\"middle\" x=\"179.521\" y=\"-596.3\">input:</text>\n",
       "<polyline fill=\"none\" points=\"151.687,-589.5 207.355,-589.5 \" stroke=\"black\"/>\n",
       "<text font-family=\"Times,serif\" font-size=\"14.00\" text-anchor=\"middle\" x=\"179.521\" y=\"-574.3\">output:</text>\n",
       "<polyline fill=\"none\" points=\"207.355,-567.5 207.355,-611.5 \" stroke=\"black\"/>\n",
       "<text font-family=\"Times,serif\" font-size=\"14.00\" text-anchor=\"middle\" x=\"242.18\" y=\"-596.3\">(None, 1)</text>\n",
       "<polyline fill=\"none\" points=\"207.355,-589.5 277.004,-589.5 \" stroke=\"black\"/>\n",
       "<text font-family=\"Times,serif\" font-size=\"14.00\" text-anchor=\"middle\" x=\"242.18\" y=\"-574.3\">(None, 1)</text>\n",
       "</g>\n",
       "<!-- 5190922536 -->\n",
       "<g class=\"node\" id=\"node3\"><title>5190922536</title>\n",
       "<polygon fill=\"none\" points=\"0,-486.5 0,-530.5 319.783,-530.5 319.783,-486.5 0,-486.5\" stroke=\"black\"/>\n",
       "<text font-family=\"Times,serif\" font-size=\"14.00\" text-anchor=\"middle\" x=\"90.2329\" y=\"-504.3\">user_embedding: Embedding</text>\n",
       "<polyline fill=\"none\" points=\"180.466,-486.5 180.466,-530.5 \" stroke=\"black\"/>\n",
       "<text font-family=\"Times,serif\" font-size=\"14.00\" text-anchor=\"middle\" x=\"208.3\" y=\"-515.3\">input:</text>\n",
       "<polyline fill=\"none\" points=\"180.466,-508.5 236.135,-508.5 \" stroke=\"black\"/>\n",
       "<text font-family=\"Times,serif\" font-size=\"14.00\" text-anchor=\"middle\" x=\"208.3\" y=\"-493.3\">output:</text>\n",
       "<polyline fill=\"none\" points=\"236.135,-486.5 236.135,-530.5 \" stroke=\"black\"/>\n",
       "<text font-family=\"Times,serif\" font-size=\"14.00\" text-anchor=\"middle\" x=\"277.959\" y=\"-515.3\">(None, 1)</text>\n",
       "<polyline fill=\"none\" points=\"236.135,-508.5 319.783,-508.5 \" stroke=\"black\"/>\n",
       "<text font-family=\"Times,serif\" font-size=\"14.00\" text-anchor=\"middle\" x=\"277.959\" y=\"-493.3\">(None, 1, 5)</text>\n",
       "</g>\n",
       "<!-- 5190925168&#45;&gt;5190922536 -->\n",
       "<g class=\"edge\" id=\"edge1\"><title>5190925168-&gt;5190922536</title>\n",
       "<path d=\"M159.892,-567.329C159.892,-559.183 159.892,-549.699 159.892,-540.797\" fill=\"none\" stroke=\"black\"/>\n",
       "<polygon fill=\"black\" points=\"163.392,-540.729 159.892,-530.729 156.392,-540.729 163.392,-540.729\" stroke=\"black\"/>\n",
       "</g>\n",
       "<!-- 5183802168 -->\n",
       "<g class=\"node\" id=\"node2\"><title>5183802168</title>\n",
       "<polygon fill=\"none\" points=\"381,-567.5 381,-611.5 616.783,-611.5 616.783,-567.5 381,-567.5\" stroke=\"black\"/>\n",
       "<text font-family=\"Times,serif\" font-size=\"14.00\" text-anchor=\"middle\" x=\"436.233\" y=\"-585.3\">item: InputLayer</text>\n",
       "<polyline fill=\"none\" points=\"491.466,-567.5 491.466,-611.5 \" stroke=\"black\"/>\n",
       "<text font-family=\"Times,serif\" font-size=\"14.00\" text-anchor=\"middle\" x=\"519.3\" y=\"-596.3\">input:</text>\n",
       "<polyline fill=\"none\" points=\"491.466,-589.5 547.135,-589.5 \" stroke=\"black\"/>\n",
       "<text font-family=\"Times,serif\" font-size=\"14.00\" text-anchor=\"middle\" x=\"519.3\" y=\"-574.3\">output:</text>\n",
       "<polyline fill=\"none\" points=\"547.135,-567.5 547.135,-611.5 \" stroke=\"black\"/>\n",
       "<text font-family=\"Times,serif\" font-size=\"14.00\" text-anchor=\"middle\" x=\"581.959\" y=\"-596.3\">(None, 1)</text>\n",
       "<polyline fill=\"none\" points=\"547.135,-589.5 616.783,-589.5 \" stroke=\"black\"/>\n",
       "<text font-family=\"Times,serif\" font-size=\"14.00\" text-anchor=\"middle\" x=\"581.959\" y=\"-574.3\">(None, 1)</text>\n",
       "</g>\n",
       "<!-- 5186343656 -->\n",
       "<g class=\"node\" id=\"node4\"><title>5186343656</title>\n",
       "<polygon fill=\"none\" points=\"338.221,-486.5 338.221,-530.5 659.562,-530.5 659.562,-486.5 338.221,-486.5\" stroke=\"black\"/>\n",
       "<text font-family=\"Times,serif\" font-size=\"14.00\" text-anchor=\"middle\" x=\"429.233\" y=\"-504.3\">item_embedding: Embedding</text>\n",
       "<polyline fill=\"none\" points=\"520.245,-486.5 520.245,-530.5 \" stroke=\"black\"/>\n",
       "<text font-family=\"Times,serif\" font-size=\"14.00\" text-anchor=\"middle\" x=\"548.08\" y=\"-515.3\">input:</text>\n",
       "<polyline fill=\"none\" points=\"520.245,-508.5 575.914,-508.5 \" stroke=\"black\"/>\n",
       "<text font-family=\"Times,serif\" font-size=\"14.00\" text-anchor=\"middle\" x=\"548.08\" y=\"-493.3\">output:</text>\n",
       "<polyline fill=\"none\" points=\"575.914,-486.5 575.914,-530.5 \" stroke=\"black\"/>\n",
       "<text font-family=\"Times,serif\" font-size=\"14.00\" text-anchor=\"middle\" x=\"617.738\" y=\"-515.3\">(None, 1)</text>\n",
       "<polyline fill=\"none\" points=\"575.914,-508.5 659.562,-508.5 \" stroke=\"black\"/>\n",
       "<text font-family=\"Times,serif\" font-size=\"14.00\" text-anchor=\"middle\" x=\"617.738\" y=\"-493.3\">(None, 1, 8)</text>\n",
       "</g>\n",
       "<!-- 5183802168&#45;&gt;5186343656 -->\n",
       "<g class=\"edge\" id=\"edge2\"><title>5183802168-&gt;5186343656</title>\n",
       "<path d=\"M498.892,-567.329C498.892,-559.183 498.892,-549.699 498.892,-540.797\" fill=\"none\" stroke=\"black\"/>\n",
       "<polygon fill=\"black\" points=\"502.392,-540.729 498.892,-530.729 495.392,-540.729 502.392,-540.729\" stroke=\"black\"/>\n",
       "</g>\n",
       "<!-- 5183800432 -->\n",
       "<g class=\"node\" id=\"node5\"><title>5183800432</title>\n",
       "<polygon fill=\"none\" points=\"45.9482,-405.5 45.9482,-449.5 319.835,-449.5 319.835,-405.5 45.9482,-405.5\" stroke=\"black\"/>\n",
       "<text font-family=\"Times,serif\" font-size=\"14.00\" text-anchor=\"middle\" x=\"113.233\" y=\"-423.3\">reshape_15: Reshape</text>\n",
       "<polyline fill=\"none\" points=\"180.518,-405.5 180.518,-449.5 \" stroke=\"black\"/>\n",
       "<text font-family=\"Times,serif\" font-size=\"14.00\" text-anchor=\"middle\" x=\"208.352\" y=\"-434.3\">input:</text>\n",
       "<polyline fill=\"none\" points=\"180.518,-427.5 236.187,-427.5 \" stroke=\"black\"/>\n",
       "<text font-family=\"Times,serif\" font-size=\"14.00\" text-anchor=\"middle\" x=\"208.352\" y=\"-412.3\">output:</text>\n",
       "<polyline fill=\"none\" points=\"236.187,-405.5 236.187,-449.5 \" stroke=\"black\"/>\n",
       "<text font-family=\"Times,serif\" font-size=\"14.00\" text-anchor=\"middle\" x=\"278.011\" y=\"-434.3\">(None, 1, 5)</text>\n",
       "<polyline fill=\"none\" points=\"236.187,-427.5 319.835,-427.5 \" stroke=\"black\"/>\n",
       "<text font-family=\"Times,serif\" font-size=\"14.00\" text-anchor=\"middle\" x=\"278.011\" y=\"-412.3\">(None, 5)</text>\n",
       "</g>\n",
       "<!-- 5190922536&#45;&gt;5183800432 -->\n",
       "<g class=\"edge\" id=\"edge3\"><title>5190922536-&gt;5183800432</title>\n",
       "<path d=\"M166.055,-486.329C168.453,-478.094 171.248,-468.493 173.864,-459.507\" fill=\"none\" stroke=\"black\"/>\n",
       "<polygon fill=\"black\" points=\"177.276,-460.309 176.711,-449.729 170.555,-458.352 177.276,-460.309\" stroke=\"black\"/>\n",
       "</g>\n",
       "<!-- 5186345840 -->\n",
       "<g class=\"node\" id=\"node6\"><title>5186345840</title>\n",
       "<polygon fill=\"none\" points=\"349.948,-405.5 349.948,-449.5 623.835,-449.5 623.835,-405.5 349.948,-405.5\" stroke=\"black\"/>\n",
       "<text font-family=\"Times,serif\" font-size=\"14.00\" text-anchor=\"middle\" x=\"417.233\" y=\"-423.3\">reshape_16: Reshape</text>\n",
       "<polyline fill=\"none\" points=\"484.518,-405.5 484.518,-449.5 \" stroke=\"black\"/>\n",
       "<text font-family=\"Times,serif\" font-size=\"14.00\" text-anchor=\"middle\" x=\"512.352\" y=\"-434.3\">input:</text>\n",
       "<polyline fill=\"none\" points=\"484.518,-427.5 540.187,-427.5 \" stroke=\"black\"/>\n",
       "<text font-family=\"Times,serif\" font-size=\"14.00\" text-anchor=\"middle\" x=\"512.352\" y=\"-412.3\">output:</text>\n",
       "<polyline fill=\"none\" points=\"540.187,-405.5 540.187,-449.5 \" stroke=\"black\"/>\n",
       "<text font-family=\"Times,serif\" font-size=\"14.00\" text-anchor=\"middle\" x=\"582.011\" y=\"-434.3\">(None, 1, 8)</text>\n",
       "<polyline fill=\"none\" points=\"540.187,-427.5 623.835,-427.5 \" stroke=\"black\"/>\n",
       "<text font-family=\"Times,serif\" font-size=\"14.00\" text-anchor=\"middle\" x=\"582.011\" y=\"-412.3\">(None, 8)</text>\n",
       "</g>\n",
       "<!-- 5186343656&#45;&gt;5186345840 -->\n",
       "<g class=\"edge\" id=\"edge4\"><title>5186343656-&gt;5186345840</title>\n",
       "<path d=\"M495.676,-486.329C494.438,-478.183 492.998,-468.699 491.646,-459.797\" fill=\"none\" stroke=\"black\"/>\n",
       "<polygon fill=\"black\" points=\"495.078,-459.09 490.116,-449.729 488.158,-460.141 495.078,-459.09\" stroke=\"black\"/>\n",
       "</g>\n",
       "<!-- 5185640096 -->\n",
       "<g class=\"node\" id=\"node7\"><title>5185640096</title>\n",
       "<polygon fill=\"none\" points=\"150.927,-324.5 150.927,-368.5 518.856,-368.5 518.856,-324.5 150.927,-324.5\" stroke=\"black\"/>\n",
       "<text font-family=\"Times,serif\" font-size=\"14.00\" text-anchor=\"middle\" x=\"237.247\" y=\"-342.3\">concatenate_1: Concatenate</text>\n",
       "<polyline fill=\"none\" points=\"323.566,-324.5 323.566,-368.5 \" stroke=\"black\"/>\n",
       "<text font-family=\"Times,serif\" font-size=\"14.00\" text-anchor=\"middle\" x=\"351.4\" y=\"-353.3\">input:</text>\n",
       "<polyline fill=\"none\" points=\"323.566,-346.5 379.235,-346.5 \" stroke=\"black\"/>\n",
       "<text font-family=\"Times,serif\" font-size=\"14.00\" text-anchor=\"middle\" x=\"351.4\" y=\"-331.3\">output:</text>\n",
       "<polyline fill=\"none\" points=\"379.235,-324.5 379.235,-368.5 \" stroke=\"black\"/>\n",
       "<text font-family=\"Times,serif\" font-size=\"14.00\" text-anchor=\"middle\" x=\"449.045\" y=\"-353.3\">[(None, 5), (None, 8)]</text>\n",
       "<polyline fill=\"none\" points=\"379.235,-346.5 518.856,-346.5 \" stroke=\"black\"/>\n",
       "<text font-family=\"Times,serif\" font-size=\"14.00\" text-anchor=\"middle\" x=\"448.559\" y=\"-331.3\">(None, 13)</text>\n",
       "</g>\n",
       "<!-- 5183800432&#45;&gt;5185640096 -->\n",
       "<g class=\"edge\" id=\"edge5\"><title>5183800432-&gt;5185640096</title>\n",
       "<path d=\"M223.625,-405.329C242.613,-395.46 265.376,-383.63 285.351,-373.248\" fill=\"none\" stroke=\"black\"/>\n",
       "<polygon fill=\"black\" points=\"287.051,-376.309 294.31,-368.592 283.822,-370.098 287.051,-376.309\" stroke=\"black\"/>\n",
       "</g>\n",
       "<!-- 5186345840&#45;&gt;5185640096 -->\n",
       "<g class=\"edge\" id=\"edge6\"><title>5186345840-&gt;5185640096</title>\n",
       "<path d=\"M446.158,-405.329C427.17,-395.46 404.408,-383.63 384.432,-373.248\" fill=\"none\" stroke=\"black\"/>\n",
       "<polygon fill=\"black\" points=\"385.961,-370.098 375.473,-368.592 382.732,-376.309 385.961,-370.098\" stroke=\"black\"/>\n",
       "</g>\n",
       "<!-- 5186645968 -->\n",
       "<g class=\"node\" id=\"node8\"><title>5186645968</title>\n",
       "<polygon fill=\"none\" points=\"213.107,-243.5 213.107,-287.5 456.676,-287.5 456.676,-243.5 213.107,-243.5\" stroke=\"black\"/>\n",
       "<text font-family=\"Times,serif\" font-size=\"14.00\" text-anchor=\"middle\" x=\"265.233\" y=\"-261.3\">dense_2: Dense</text>\n",
       "<polyline fill=\"none\" points=\"317.359,-243.5 317.359,-287.5 \" stroke=\"black\"/>\n",
       "<text font-family=\"Times,serif\" font-size=\"14.00\" text-anchor=\"middle\" x=\"345.193\" y=\"-272.3\">input:</text>\n",
       "<polyline fill=\"none\" points=\"317.359,-265.5 373.028,-265.5 \" stroke=\"black\"/>\n",
       "<text font-family=\"Times,serif\" font-size=\"14.00\" text-anchor=\"middle\" x=\"345.193\" y=\"-250.3\">output:</text>\n",
       "<polyline fill=\"none\" points=\"373.028,-243.5 373.028,-287.5 \" stroke=\"black\"/>\n",
       "<text font-family=\"Times,serif\" font-size=\"14.00\" text-anchor=\"middle\" x=\"414.852\" y=\"-272.3\">(None, 13)</text>\n",
       "<polyline fill=\"none\" points=\"373.028,-265.5 456.676,-265.5 \" stroke=\"black\"/>\n",
       "<text font-family=\"Times,serif\" font-size=\"14.00\" text-anchor=\"middle\" x=\"414.852\" y=\"-250.3\">(None, 100)</text>\n",
       "</g>\n",
       "<!-- 5185640096&#45;&gt;5186645968 -->\n",
       "<g class=\"edge\" id=\"edge7\"><title>5185640096-&gt;5186645968</title>\n",
       "<path d=\"M334.892,-324.329C334.892,-316.183 334.892,-306.699 334.892,-297.797\" fill=\"none\" stroke=\"black\"/>\n",
       "<polygon fill=\"black\" points=\"338.392,-297.729 334.892,-287.729 331.392,-297.729 338.392,-297.729\" stroke=\"black\"/>\n",
       "</g>\n",
       "<!-- 5186799880 -->\n",
       "<g class=\"node\" id=\"node9\"><title>5186799880</title>\n",
       "<polygon fill=\"none\" points=\"213.107,-162.5 213.107,-206.5 456.676,-206.5 456.676,-162.5 213.107,-162.5\" stroke=\"black\"/>\n",
       "<text font-family=\"Times,serif\" font-size=\"14.00\" text-anchor=\"middle\" x=\"265.233\" y=\"-180.3\">dense_3: Dense</text>\n",
       "<polyline fill=\"none\" points=\"317.359,-162.5 317.359,-206.5 \" stroke=\"black\"/>\n",
       "<text font-family=\"Times,serif\" font-size=\"14.00\" text-anchor=\"middle\" x=\"345.193\" y=\"-191.3\">input:</text>\n",
       "<polyline fill=\"none\" points=\"317.359,-184.5 373.028,-184.5 \" stroke=\"black\"/>\n",
       "<text font-family=\"Times,serif\" font-size=\"14.00\" text-anchor=\"middle\" x=\"345.193\" y=\"-169.3\">output:</text>\n",
       "<polyline fill=\"none\" points=\"373.028,-162.5 373.028,-206.5 \" stroke=\"black\"/>\n",
       "<text font-family=\"Times,serif\" font-size=\"14.00\" text-anchor=\"middle\" x=\"414.852\" y=\"-191.3\">(None, 100)</text>\n",
       "<polyline fill=\"none\" points=\"373.028,-184.5 456.676,-184.5 \" stroke=\"black\"/>\n",
       "<text font-family=\"Times,serif\" font-size=\"14.00\" text-anchor=\"middle\" x=\"414.852\" y=\"-169.3\">(None, 50)</text>\n",
       "</g>\n",
       "<!-- 5186645968&#45;&gt;5186799880 -->\n",
       "<g class=\"edge\" id=\"edge8\"><title>5186645968-&gt;5186799880</title>\n",
       "<path d=\"M334.892,-243.329C334.892,-235.183 334.892,-225.699 334.892,-216.797\" fill=\"none\" stroke=\"black\"/>\n",
       "<polygon fill=\"black\" points=\"338.392,-216.729 334.892,-206.729 331.392,-216.729 338.392,-216.729\" stroke=\"black\"/>\n",
       "</g>\n",
       "<!-- 5187173232 -->\n",
       "<g class=\"node\" id=\"node10\"><title>5187173232</title>\n",
       "<polygon fill=\"none\" points=\"216.607,-81.5 216.607,-125.5 453.176,-125.5 453.176,-81.5 216.607,-81.5\" stroke=\"black\"/>\n",
       "<text font-family=\"Times,serif\" font-size=\"14.00\" text-anchor=\"middle\" x=\"268.733\" y=\"-99.3\">dense_4: Dense</text>\n",
       "<polyline fill=\"none\" points=\"320.859,-81.5 320.859,-125.5 \" stroke=\"black\"/>\n",
       "<text font-family=\"Times,serif\" font-size=\"14.00\" text-anchor=\"middle\" x=\"348.693\" y=\"-110.3\">input:</text>\n",
       "<polyline fill=\"none\" points=\"320.859,-103.5 376.528,-103.5 \" stroke=\"black\"/>\n",
       "<text font-family=\"Times,serif\" font-size=\"14.00\" text-anchor=\"middle\" x=\"348.693\" y=\"-88.3\">output:</text>\n",
       "<polyline fill=\"none\" points=\"376.528,-81.5 376.528,-125.5 \" stroke=\"black\"/>\n",
       "<text font-family=\"Times,serif\" font-size=\"14.00\" text-anchor=\"middle\" x=\"414.852\" y=\"-110.3\">(None, 50)</text>\n",
       "<polyline fill=\"none\" points=\"376.528,-103.5 453.176,-103.5 \" stroke=\"black\"/>\n",
       "<text font-family=\"Times,serif\" font-size=\"14.00\" text-anchor=\"middle\" x=\"414.852\" y=\"-88.3\">(None, 20)</text>\n",
       "</g>\n",
       "<!-- 5186799880&#45;&gt;5187173232 -->\n",
       "<g class=\"edge\" id=\"edge9\"><title>5186799880-&gt;5187173232</title>\n",
       "<path d=\"M334.892,-162.329C334.892,-154.183 334.892,-144.699 334.892,-135.797\" fill=\"none\" stroke=\"black\"/>\n",
       "<polygon fill=\"black\" points=\"338.392,-135.729 334.892,-125.729 331.392,-135.729 338.392,-135.729\" stroke=\"black\"/>\n",
       "</g>\n",
       "<!-- 5189143464 -->\n",
       "<g class=\"node\" id=\"node11\"><title>5189143464</title>\n",
       "<polygon fill=\"none\" points=\"216.607,-0.5 216.607,-44.5 453.176,-44.5 453.176,-0.5 216.607,-0.5\" stroke=\"black\"/>\n",
       "<text font-family=\"Times,serif\" font-size=\"14.00\" text-anchor=\"middle\" x=\"268.733\" y=\"-18.3\">dense_5: Dense</text>\n",
       "<polyline fill=\"none\" points=\"320.859,-0.5 320.859,-44.5 \" stroke=\"black\"/>\n",
       "<text font-family=\"Times,serif\" font-size=\"14.00\" text-anchor=\"middle\" x=\"348.693\" y=\"-29.3\">input:</text>\n",
       "<polyline fill=\"none\" points=\"320.859,-22.5 376.528,-22.5 \" stroke=\"black\"/>\n",
       "<text font-family=\"Times,serif\" font-size=\"14.00\" text-anchor=\"middle\" x=\"348.693\" y=\"-7.3\">output:</text>\n",
       "<polyline fill=\"none\" points=\"376.528,-0.5 376.528,-44.5 \" stroke=\"black\"/>\n",
       "<text font-family=\"Times,serif\" font-size=\"14.00\" text-anchor=\"middle\" x=\"414.852\" y=\"-29.3\">(None, 20)</text>\n",
       "<polyline fill=\"none\" points=\"376.528,-22.5 453.176,-22.5 \" stroke=\"black\"/>\n",
       "<text font-family=\"Times,serif\" font-size=\"14.00\" text-anchor=\"middle\" x=\"414.852\" y=\"-7.3\">(None, 1)</text>\n",
       "</g>\n",
       "<!-- 5187173232&#45;&gt;5189143464 -->\n",
       "<g class=\"edge\" id=\"edge10\"><title>5187173232-&gt;5189143464</title>\n",
       "<path d=\"M334.892,-81.3294C334.892,-73.1826 334.892,-63.6991 334.892,-54.7971\" fill=\"none\" stroke=\"black\"/>\n",
       "<polygon fill=\"black\" points=\"338.392,-54.729 334.892,-44.729 331.392,-54.729 338.392,-54.729\" stroke=\"black\"/>\n",
       "</g>\n",
       "</g>\n",
       "</svg>"
      ],
      "text/plain": [
       "<IPython.core.display.SVG object>"
      ]
     },
     "execution_count": 61,
     "metadata": {},
     "output_type": "execute_result"
    }
   ],
   "source": [
    "n_latent_factors_user = 5\n",
    "n_latent_factors_movie = 8\n",
    "\n",
    "user_id_input = Input(shape=[1], name='user')\n",
    "user_embedding = Embedding(output_dim=n_latent_factors_user, input_dim=n_users, input_length=1, name='user_embedding')(user_id_input)\n",
    "user_vecs = Reshape([n_latent_factors_user])(user_embedding)\n",
    "\n",
    "item_id_input = Input(shape=[1], name='item')\n",
    "item_embedding = Embedding(output_dim=n_latent_factors_movie, input_dim=n_items, input_length=1, name='item_embedding')(item_id_input)\n",
    "item_vecs = Reshape([n_latent_factors_movie])(item_embedding)\n",
    "\n",
    "input_vecs = Concatenate()([user_vecs, item_vecs])\n",
    "x = Dense(100, activation='relu')(input_vecs)\n",
    "x = Dense(50, activation='relu')(x)\n",
    "x = Dense(20, activation='relu')(x)\n",
    "y = Dense(1)(x)\n",
    "\n",
    "model = Model(inputs=[user_id_input, item_id_input], outputs=y)\n",
    "\n",
    "model.compile(loss='mse',\n",
    "              optimizer=\"adam\")\n",
    "\n",
    "\n",
    "SVG(model_to_dot(model, show_shapes=True).create(prog='dot', format='svg'))"
   ]
  },
  {
   "cell_type": "code",
   "execution_count": 62,
   "metadata": {},
   "outputs": [
    {
     "name": "stdout",
     "output_type": "stream",
     "text": [
      "Train on 67500 samples, validate on 7500 samples\n",
      "Epoch 1/10\n",
      "67500/67500 [==============================] - 3s 43us/step - loss: 1.3235 - val_loss: 0.8873\n",
      "Epoch 2/10\n",
      "67500/67500 [==============================] - 2s 32us/step - loss: 0.8898 - val_loss: 0.8589\n",
      "Epoch 3/10\n",
      "67500/67500 [==============================] - 3s 39us/step - loss: 0.8734 - val_loss: 0.8509\n",
      "Epoch 4/10\n",
      "67500/67500 [==============================] - 3s 40us/step - loss: 0.8497 - val_loss: 0.8453\n",
      "Epoch 5/10\n",
      "67500/67500 [==============================] - 3s 47us/step - loss: 0.8334 - val_loss: 0.8434\n",
      "Epoch 6/10\n",
      "67500/67500 [==============================] - 3s 41us/step - loss: 0.8161 - val_loss: 0.8691\n",
      "Epoch 7/10\n",
      "67500/67500 [==============================] - 2s 34us/step - loss: 0.7991 - val_loss: 0.8392\n",
      "Epoch 8/10\n",
      "67500/67500 [==============================] - 3s 40us/step - loss: 0.7839 - val_loss: 0.8418\n",
      "Epoch 9/10\n",
      "67500/67500 [==============================] - 2s 32us/step - loss: 0.7644 - val_loss: 0.8496\n",
      "Epoch 10/10\n",
      "67500/67500 [==============================] - 2s 32us/step - loss: 0.7466 - val_loss: 0.8528\n"
     ]
    }
   ],
   "source": [
    "history = model.fit([ratings_train[\"user_id\"], ratings_train[\"movie_id\"]],\n",
    "                    ratings_train[\"rating\"],\n",
    "                    batch_size=64, epochs=10,\n",
    "                    validation_split=0.1,\n",
    "                    shuffle=True)"
   ]
  }
 ],
 "metadata": {
  "anaconda-cloud": {},
  "kernelspec": {
   "display_name": "Python [default]",
   "language": "python",
   "name": "python3"
  },
  "language_info": {
   "codemirror_mode": {
    "name": "ipython",
    "version": 3
   },
   "file_extension": ".py",
   "mimetype": "text/x-python",
   "name": "python",
   "nbconvert_exporter": "python",
   "pygments_lexer": "ipython3",
   "version": "3.5.2"
  }
 },
 "nbformat": 4,
 "nbformat_minor": 2
}
